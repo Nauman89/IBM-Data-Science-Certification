{
 "cells": [
  {
   "cell_type": "markdown",
   "id": "c9c8e1a8-a8de-48d3-9614-ed5e2c10e84e",
   "metadata": {},
   "source": [
    "# Data Science Tools and Ecosystem"
   ]
  },
  {
   "cell_type": "markdown",
   "id": "1e86061c-cee7-4c9c-9f4b-8893f759220b",
   "metadata": {},
   "source": [
    "This notebook is part of the final assignments pertaining to the \"Tools for Data Science\" Course "
   ]
  },
  {
   "cell_type": "markdown",
   "id": "802439cf-35dc-421d-a4d3-bb0178a33147",
   "metadata": {},
   "source": [
    "**Objectives**\n",
    "- List popular data science languages\n",
    "- List commonly used libraries\n",
    "- Create a table listing data science tools\n",
    "- Evaluate basic arithimetic expressions"
   ]
  },
  {
   "cell_type": "markdown",
   "id": "c9aa2fbf-cc92-4d40-9bc9-1c768f267b21",
   "metadata": {},
   "source": [
    "Some of the popular languages that Data Scientists use are:\n",
    "1. Python\n",
    "2. R\n",
    "3. SQL"
   ]
  },
  {
   "cell_type": "markdown",
   "id": "fffd541d-1d96-4011-84d6-ff91a5654c6c",
   "metadata": {},
   "source": [
    "Some of the commonly used libraries used by Data Scientists include:\n",
    "1. Pandas\n",
    "2. Numpy\n",
    "3. Matplotlib\n",
    "4. Seaborn\n",
    "5. Scikit Learn"
   ]
  },
  {
   "cell_type": "markdown",
   "id": "7b0257df-cacf-4ab6-8ffa-52b608e61040",
   "metadata": {},
   "source": [
    "| Data Science Tools |\n",
    "| ------------------ |\n",
    "| JupyterLab         |\n",
    "| RStudio            |\n",
    "| Miscrosoft SQL Server |"
   ]
  },
  {
   "cell_type": "markdown",
   "id": "b585cf8a-d87e-4969-a046-39514aad6180",
   "metadata": {},
   "source": [
    "### Below are a few examples of evaluating arithmetic expressions in Python:"
   ]
  },
  {
   "cell_type": "code",
   "execution_count": 10,
   "id": "dfd4ec03-66c2-41d6-9190-09c8012121ab",
   "metadata": {},
   "outputs": [
    {
     "data": {
      "text/plain": [
       "17"
      ]
     },
     "execution_count": 10,
     "metadata": {},
     "output_type": "execute_result"
    }
   ],
   "source": [
    "# This is a simple arithimetic expression to multiply then add integers:\n",
    "(3*4)+5"
   ]
  },
  {
   "cell_type": "code",
   "execution_count": 12,
   "id": "6784c32b-7d60-4469-bb5e-771f0bd20c44",
   "metadata": {},
   "outputs": [
    {
     "data": {
      "text/plain": [
       "3.3333333333333335"
      ]
     },
     "execution_count": 12,
     "metadata": {},
     "output_type": "execute_result"
    }
   ],
   "source": [
    "# This will convert 200 minutes to hours by dividing by 60\n",
    "200/60"
   ]
  },
  {
   "cell_type": "markdown",
   "id": "7c6011cb-f8a6-4d38-874d-0b7f886ecf0e",
   "metadata": {},
   "source": [
    "## Author:\n",
    "Nauman Rasheed"
   ]
  },
  {
   "cell_type": "code",
   "execution_count": null,
   "id": "bddffdb8-e848-422c-8f73-9200a73af626",
   "metadata": {},
   "outputs": [],
   "source": []
  }
 ],
 "metadata": {
  "kernelspec": {
   "display_name": "Python 3 (ipykernel)",
   "language": "python",
   "name": "python3"
  },
  "language_info": {
   "codemirror_mode": {
    "name": "ipython",
    "version": 3
   },
   "file_extension": ".py",
   "mimetype": "text/x-python",
   "name": "python",
   "nbconvert_exporter": "python",
   "pygments_lexer": "ipython3",
   "version": "3.11.7"
  }
 },
 "nbformat": 4,
 "nbformat_minor": 5
}
