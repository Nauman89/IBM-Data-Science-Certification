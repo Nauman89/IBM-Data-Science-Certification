{
 "cells": [
  {
   "cell_type": "markdown",
   "id": "b614307c-e32e-4472-a27c-095ab7594274",
   "metadata": {},
   "source": [
    "**Exercise 2: Create markdown cell with title of the notebook**\n",
    "\n",
    "Create a markdown cell with the title Data Science Tools and Ecosystem using H1 style heading.\n",
    "Take a screenshot of the markdown cell and name it as 2-title.png (Images can be saved with either the .jpg or .png extension.)"
   ]
  },
  {
   "cell_type": "markdown",
   "id": "c9c8e1a8-a8de-48d3-9614-ed5e2c10e84e",
   "metadata": {},
   "source": [
    "# Data Science Tools and Ecosystem"
   ]
  },
  {
   "cell_type": "markdown",
   "id": "f6e0b86b-a277-478a-8251-0b3ef07a096e",
   "metadata": {},
   "source": [
    "**Exercise 3 - Create a markdown cell for an introduction**\r\n",
    "\r\n",
    "Write an introductory sentence about the notebook such as the follows:\r\n",
    "\r\n",
    "In this notebook, Data Science Tools and Ecosystem are summarized.\r\n",
    "Take a screenshot of the markdown cell and name it as 3-intro.png (Images can be saved with either the .jpg or .png extension.)"
   ]
  },
  {
   "cell_type": "markdown",
   "id": "1e86061c-cee7-4c9c-9f4b-8893f759220b",
   "metadata": {},
   "source": [
    "This notebook is part of the final assignments pertaining to the \"Tools for Data Science\" Course. It summarizes the Data Science Tools and Ecosystems "
   ]
  },
  {
   "attachments": {},
   "cell_type": "markdown",
   "id": "1036872d-baab-40bd-bf07-8ec4689d08e9",
   "metadata": {},
   "source": [
    "**Exercise 10 - Insert a markdown cell to list Objectives**\r\n",
    "\r\n",
    "Below the introduction cell created in Exercise 3, insert a new markdown cell to list the objectives that this notebook covered (i.e. some of the key takeaways from the course). In this new cell start with an introductory line titled: Objectives: in bold font. Then using an unordered list (bullets) indicate 3 to 5 items covered in this notebook, such as List popular languages for Data Science.\r\n",
    "Take a screenshot of the markdown cell and name it as 10-objectives.png (Images can be saved with either the .jpg or .png extension.)"
   ]
  },
  {
   "cell_type": "markdown",
   "id": "802439cf-35dc-421d-a4d3-bb0178a33147",
   "metadata": {},
   "source": [
    "**Objectives**\n",
    "- List popular data science languages\n",
    "- List commonly used libraries\n",
    "- Create a table listing data science tools\n",
    "- Evaluate basic arithimetic expressions"
   ]
  },
  {
   "cell_type": "markdown",
   "id": "18bbfb64-4938-44ad-ac5f-9d3847382a15",
   "metadata": {},
   "source": [
    "**Exercise 4 - Create a markdown cell to list data science languages**\r\n",
    "\r\n",
    "Start the cell with an overview line such as:\r\n",
    "\r\n",
    "Some of the popular languages that Data Scientists use are:\r\n",
    "Then create an ordered list (i.e. numbered) listing 3 (or more) commonly used languages for data science.\r\n",
    "Take a screenshot of the markdown cell and name it as 4-dslanguages.png (Images can be saved with either the .jpg or .png extension.)"
   ]
  },
  {
   "cell_type": "markdown",
   "id": "c9aa2fbf-cc92-4d40-9bc9-1c768f267b21",
   "metadata": {},
   "source": [
    "Some of the popular languages that Data Scientists use are:\n",
    "1. Python\n",
    "2. R\n",
    "3. SQL"
   ]
  },
  {
   "cell_type": "markdown",
   "id": "c3b774b7-7ea6-4bc3-8877-8cf0d0cd9c0d",
   "metadata": {},
   "source": [
    "**Exercise 5 - Create a markdown cell to list data science libraries**\r\n",
    "\r\n",
    "Add an overview line to the cell like:\r\n",
    "\r\n",
    "Some of the commonly used libraries used by Data Scientists include:\r\n",
    "Below this line add an ordered list listing 3 (or more) commonly used libraries in data science.\r\n",
    "Take a screenshot of the markdown cell and name it as 5-dslibraries.png (Images can be saved with either the .jpg or .png extension.)"
   ]
  },
  {
   "cell_type": "markdown",
   "id": "fffd541d-1d96-4011-84d6-ff91a5654c6c",
   "metadata": {},
   "source": [
    "Some of the commonly used libraries used by Data Scientists include:\n",
    "1. Pandas\n",
    "2. Numpy\n",
    "3. Matplotlib\n",
    "4. Seaborn\n",
    "5. Scikit Learn"
   ]
  },
  {
   "cell_type": "markdown",
   "id": "7d07079a-17f7-4a48-9ed7-f4f1646c80a1",
   "metadata": {},
   "source": [
    "**Exercise 6 - Create a markdown cell with a table of Data Science tools**\r\n",
    "\r\n",
    "Create a single column table in this cell with the first row containing the header Data Science Tools. The subsequent three rows in the table should indicate three development environment open source tools used in data science.\r\n",
    "\r\n",
    "Take a screenshot of the markdown cell and name it as 6-dstools.png (Images can be saved with either the .jpg or .png extension.)"
   ]
  },
  {
   "cell_type": "markdown",
   "id": "7b0257df-cacf-4ab6-8ffa-52b608e61040",
   "metadata": {},
   "source": [
    "| Data Science Tools |\n",
    "| ------------------ |\n",
    "| JupyterLab         |\n",
    "| RStudio            |\n",
    "| Miscrosoft SQL Server |"
   ]
  },
  {
   "cell_type": "markdown",
   "id": "5d26456a-9cde-42cf-88e2-24429629fbc4",
   "metadata": {},
   "source": [
    "**Exercise 7 - Create a markdown cell introducing arithmetic expression examples**\r\n",
    "\r\n",
    "Add a line in this cell with H3 style heading with text like:\r\n",
    "\r\n",
    "Below are a few examples of evaluating arithmetic expressions in Python.\r\n",
    "Take a screenshot of the markdown cell and name it as 7-introarithmetic.png (Images can be saved with either the .jpg or .png extension.)"
   ]
  },
  {
   "cell_type": "markdown",
   "id": "b585cf8a-d87e-4969-a046-39514aad6180",
   "metadata": {},
   "source": [
    "### Below are a few examples of evaluating arithmetic expressions in Python:"
   ]
  },
  {
   "cell_type": "markdown",
   "id": "f4e5a0dd-058e-43c5-8a9b-b1c9d5681689",
   "metadata": {},
   "source": [
    "**Exercise 8 - Create a code cell to multiply and add numbers**\r\n",
    "\r\n",
    "In this code cell evaluate the expression (3*4)+5.\r\n",
    "Insert a comment line before the expression to explain the operation e.g.  This a simple arithmetic expression to mutiply then add integers.\r\n",
    "Then execute the cell to ensure the expression returns the expected output of 17.\r\n",
    "Take a screenshot of the code cell with output and name it as 8-multiplyandaddintegers.png (Images can be saved with either the .jpg or .png extension.)"
   ]
  },
  {
   "cell_type": "code",
   "execution_count": 10,
   "id": "dfd4ec03-66c2-41d6-9190-09c8012121ab",
   "metadata": {},
   "outputs": [
    {
     "data": {
      "text/plain": [
       "17"
      ]
     },
     "execution_count": 10,
     "metadata": {},
     "output_type": "execute_result"
    }
   ],
   "source": [
    "# This is a simple arithimetic expression to multiply then add integers:\n",
    "(3*4)+5"
   ]
  },
  {
   "cell_type": "markdown",
   "id": "0e2f84e4-02d6-47cc-9222-b1531f03672a",
   "metadata": {},
   "source": [
    "**Exercise 9 - Create a code cell to convert minutes to hours**\r\n",
    "\r\n",
    "In this code cell write an expression that converts 200 minutes into hours.\r\n",
    "Insert a comment line before the expression to explain the operation e.g.  This will convert 200 minutes to hours by diving by 60.\r\n",
    "Run the cell to evaluate the expression.\r\n",
    "Take a screenshot of the code cell with output and name it as 9-hourstominutes.png (Images can be saved with either the .jpg or .png extension.)"
   ]
  },
  {
   "cell_type": "code",
   "execution_count": 12,
   "id": "6784c32b-7d60-4469-bb5e-771f0bd20c44",
   "metadata": {},
   "outputs": [
    {
     "data": {
      "text/plain": [
       "3.3333333333333335"
      ]
     },
     "execution_count": 12,
     "metadata": {},
     "output_type": "execute_result"
    }
   ],
   "source": [
    "# This will convert 200 minutes to hours by dividing by 60\n",
    "200/60"
   ]
  },
  {
   "cell_type": "markdown",
   "id": "07c36179-bf92-496b-a34c-b7a7620b9a96",
   "metadata": {},
   "source": [
    "**Exercise 11 - Create a markdown cell to indicate the Author's name**\r\n",
    "\r\n",
    "In this markdown cell markdown cell include the following text Author in H2 style heading. Include your name as regular text below the word Author.\r\n",
    "Take a screenshot of the markdown cell and name it as 11-authordetails.png (Images can be saved with either the .jpg or .png extension.)"
   ]
  },
  {
   "cell_type": "markdown",
   "id": "7c6011cb-f8a6-4d38-874d-0b7f886ecf0e",
   "metadata": {},
   "source": [
    "## Author:\n",
    "Nauman Rasheed"
   ]
  },
  {
   "cell_type": "code",
   "execution_count": null,
   "id": "bddffdb8-e848-422c-8f73-9200a73af626",
   "metadata": {},
   "outputs": [],
   "source": []
  }
 ],
 "metadata": {
  "kernelspec": {
   "display_name": "Python 3 (ipykernel)",
   "language": "python",
   "name": "python3"
  },
  "language_info": {
   "codemirror_mode": {
    "name": "ipython",
    "version": 3
   },
   "file_extension": ".py",
   "mimetype": "text/x-python",
   "name": "python",
   "nbconvert_exporter": "python",
   "pygments_lexer": "ipython3",
   "version": "3.11.7"
  }
 },
 "nbformat": 4,
 "nbformat_minor": 5
}
